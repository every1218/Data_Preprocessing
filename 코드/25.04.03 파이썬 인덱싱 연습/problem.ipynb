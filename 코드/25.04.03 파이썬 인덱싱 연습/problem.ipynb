{
 "cells": [
  {
   "cell_type": "code",
   "execution_count": 9,
   "id": "652b595f-fd85-4b06-8813-ad49993c5327",
   "metadata": {},
   "outputs": [
    {
     "name": "stdout",
     "output_type": "stream",
     "text": [
      "[10, 20, 30, [1, 2, 3]]\n"
     ]
    }
   ],
   "source": [
    "#1) 하나의 리스트를 만들고, 해당 리스트의 값의 결과가 첫번째:10, 두번째:20, 세번째: 30, \n",
    "#네번째 : [1,2,3] 값이 들어가도록 만드시오.\n",
    "arr = [10,20,30,[1,2,3]]\n",
    "print(arr)"
   ]
  },
  {
   "cell_type": "code",
   "execution_count": 13,
   "id": "4cbfbbf0-598e-4721-992c-3c1883c92cf1",
   "metadata": {},
   "outputs": [
    {
     "name": "stdout",
     "output_type": "stream",
     "text": [
      "[1, 2, 3]\n"
     ]
    }
   ],
   "source": [
    "#2) 해당 리스트를 인덱싱해 [1,2,3]의 값이 도출되게 하시오.\n",
    "print(arr[3])"
   ]
  },
  {
   "cell_type": "code",
   "execution_count": 21,
   "id": "9a352355-bad1-4009-97a5-56f5524a086d",
   "metadata": {},
   "outputs": [],
   "source": [
    "#3) 수학점수: 20, 30, 40, 50, 60, 영어점수 : 50, 70, 50, 60, 90으로 두개의 리스트로 생성하시오.\n",
    "math = [20, 30, 40, 50, 60]\n",
    "eng = [50, 70, 50, 60, 90]"
   ]
  },
  {
   "cell_type": "code",
   "execution_count": 17,
   "id": "d3ec3ffd-5796-47de-adde-65e0b7c3ab89",
   "metadata": {},
   "outputs": [
    {
     "name": "stdout",
     "output_type": "stream",
     "text": [
      "https://www.naver.com/\n"
     ]
    }
   ],
   "source": [
    "# 4) https://www.youtube.com/를 www.naver.com으로 변경하시오.\n",
    "url = \"https://www.youtube.com/\"\n",
    "new = url.replace(\"youtube\",\"naver\")\n",
    "print(new)"
   ]
  },
  {
   "cell_type": "code",
   "execution_count": 27,
   "id": "1320645a-0c2e-464f-829b-c92535d6d4ac",
   "metadata": {},
   "outputs": [
    {
     "name": "stdout",
     "output_type": "stream",
     "text": [
      "40.0\n",
      "64.0\n"
     ]
    }
   ],
   "source": [
    "# 5) 해당 리스트의 값을 계산해 수학점수와 영어점수 각각의 값의 평균을 계산하시오.\n",
    "print(sum(math)/len(math))\n",
    "print(sum(eng)/len(eng))"
   ]
  },
  {
   "cell_type": "code",
   "execution_count": 47,
   "id": "f1c59111-5908-4399-9855-762a6e3a68f0",
   "metadata": {},
   "outputs": [
    {
     "name": "stdout",
     "output_type": "stream",
     "text": [
      "[1 2 4 5]\n"
     ]
    }
   ],
   "source": [
    "# 6) 1,2,100,4,5, 900 해당 값을 가지는 배열을 생성하시고, 100과 900을 제거하시오.\n",
    "import numpy as np\n",
    "arr = np.array([1,2,100,4,5, 900])\n",
    "arr = np.delete(arr, 2)\n",
    "arr = np.delete(arr, arr.size-1)\n",
    "\n",
    "# arr = arr[arr!=100]\n",
    "# arr = arr[arr!=900] \n",
    "\n",
    "print(arr)"
   ]
  },
  {
   "cell_type": "code",
   "execution_count": 65,
   "id": "50aaba27-fd1c-453b-a2fc-ff990310e6bc",
   "metadata": {},
   "outputs": [
    {
     "name": "stdout",
     "output_type": "stream",
     "text": [
      "{'math': [20, 30, 40, 50, 60], 'eng': [50, 70, 50, 60, 90]}\n"
     ]
    }
   ],
   "source": [
    "# 7) 문제 3번의 값을 딕셔너리 형태로 저장하시오.\n",
    "d= {\"math\":[20, 30, 40, 50, 60], \"eng\":[50, 70, 50, 60, 90]}\n",
    "print(d)"
   ]
  },
  {
   "cell_type": "code",
   "execution_count": 69,
   "id": "220ec5ea-0850-40de-9019-85f186a96ca1",
   "metadata": {},
   "outputs": [
    {
     "name": "stdout",
     "output_type": "stream",
     "text": [
      "70\n"
     ]
    }
   ],
   "source": [
    "# 8) 3번의 리스트를 딕셔너리 형태로 저장하고, 수학점수 첫번째 값과 영어점수 세번째 값의 합을 계산하시오.\n",
    "d={\"math\":[20, 30, 40, 50, 60], \"eng\":[50, 70, 50, 60, 90]}\n",
    "print(d[\"math\"][0] + d[\"eng\"][2])"
   ]
  },
  {
   "cell_type": "code",
   "execution_count": 146,
   "id": "c5408c34-eba6-4f71-aed7-eeaad44c08d4",
   "metadata": {},
   "outputs": [
    {
     "name": "stdout",
     "output_type": "stream",
     "text": [
      "Python\n",
      "50\n",
      "['banana', 'grape', 'cherry']\n",
      "[1, 3, 5, 7, 9]\n",
      "[2, 4, 6, 8, 10, 12, 14, 16, 18, 20]\n",
      "[6, 7, 8, 9, 10]\n"
     ]
    }
   ],
   "source": [
    "# 1. 다음 리스트에서 'Python'을 출력하세요.\n",
    "languages = ['C', 'Java', 'Python', 'JavaScript', 'Go']\n",
    "print(languages[2])\n",
    "\n",
    "# 2. 아래 리스트에서 마지막 요소를 출력하세요.\n",
    "numbers = [10, 20, 30, 40, 50]\n",
    "print(numbers[-1])\n",
    "\n",
    "# 3. 'apple'을 'banana'로 변경한 후 리스트를 출력하세요.\n",
    "fruits = ['apple', 'grape', 'cherry']\n",
    "fruits[0] = 'banana'\n",
    "print(fruits)\n",
    "\n",
    "\n",
    "# 4. 아래 리스트에서 홀수만 출력하세요.\n",
    "nums = [1, 2, 3, 4, 5, 6, 7, 8, 9, 10]\n",
    "print([i for i in nums if i%2==1]) #짝수만 출력\n",
    "print([i*2 for i in nums]) #제곱해서 출력\n",
    "print([i for i in nums if i>5]) #5이상만 출력\n"
   ]
  },
  {
   "cell_type": "code",
   "execution_count": 126,
   "id": "2395dd72-dc6d-48ea-af93-3b7d7850caba",
   "metadata": {},
   "outputs": [
    {
     "name": "stdout",
     "output_type": "stream",
     "text": [
      "8\n",
      "[2 5 8]\n",
      "[ 2  4  6  8 10]\n",
      "3\n",
      "9\n",
      "(3, 3)\n"
     ]
    }
   ],
   "source": [
    "import numpy as np\n",
    "\n",
    "# 5. 3x3 배열을 생성하고 (2,1) 위치의 요소를 출력하세요.\n",
    "arr = np.array([[1, 2, 3], [4, 5, 6], [7, 8, 9]])\n",
    "print(arr[2,1])\n",
    "\n",
    "# 6. 위 배열에서 1열(두 번째 열)만 출력하세요.\n",
    "# for i in range(3): #행의개수 열의 개수\n",
    "#     for j in range(3):\n",
    "#         if(j==1):\n",
    "#             print(arr[i][j], end= ' ')\n",
    "# print('\\n')\n",
    "print(arr[: , 1])\n",
    "\n",
    "# 7. 1~10까지의 숫자를 가진 NumPy 배열을 만들고, 짝수만 출력하세요.\n",
    "Numpy = np.array([1,2,3,4,5,6,7,8,9,10])\n",
    "print(Numpy[Numpy%2==0])\n",
    "\n",
    "print(len(arr))\n",
    "print(arr.size)\n",
    "print(arr.shape)"
   ]
  },
  {
   "cell_type": "code",
   "execution_count": 134,
   "id": "ef4c6d32-2447-489f-ba67-d6515394393e",
   "metadata": {},
   "outputs": [
    {
     "name": "stdout",
     "output_type": "stream",
     "text": [
      "[ 2  4  6  8 10]\n",
      "[ 5  6  7  8  9 10]\n",
      "[ 1  2  3  4  6  7  8  9 10]\n"
     ]
    }
   ],
   "source": [
    "import numpy as np\n",
    "\n",
    "arr = np.array([1, 2, 3, 4, 5, 6, 7, 8, 9, 10])\n",
    "\n",
    "print(arr[arr % 2 == 0])# 짝수만 선택\n",
    "print(arr[arr>=5]) #5이상 값만 선택\n",
    "print(arr[arr!=5]) #5아닌 값만 선택"
   ]
  },
  {
   "cell_type": "code",
   "execution_count": 166,
   "id": "892a533b-99cf-4d8f-a316-3a9d194525e8",
   "metadata": {},
   "outputs": [
    {
     "name": "stdout",
     "output_type": "stream",
     "text": [
      "25\n",
      "{'name': 'Alice', 'age': 25, 'city': 'Busan'}\n",
      "dict_keys(['id', 'name', 'score'])\n",
      "['id', 'name', 'score']\n"
     ]
    }
   ],
   "source": [
    "# 8. 다음 딕셔너리에서 'age' 값을 출력하세요.\n",
    "person = {'name': 'Alice', 'age': 25, 'city': 'Seoul'}\n",
    "print(person['age'])\n",
    "\n",
    "# 9. 'city' 값을 'Busan'으로 변경한 후 딕셔너리를 출력하세요.\n",
    "person['city']='Busan'\n",
    "print(person)\n",
    "\n",
    "# 10. 아래 딕셔너리에서 모든 key를 리스트로 출력하세요.\n",
    "student = {'id': 101, 'name': 'Bob', 'score': 90}\n",
    "print(student.keys())\n",
    "print(list(student.keys()))\n",
    "\n",
    "print(list(a.keys()))"
   ]
  }
 ],
 "metadata": {
  "kernelspec": {
   "display_name": "study",
   "language": "python",
   "name": "study"
  },
  "language_info": {
   "codemirror_mode": {
    "name": "ipython",
    "version": 3
   },
   "file_extension": ".py",
   "mimetype": "text/x-python",
   "name": "python",
   "nbconvert_exporter": "python",
   "pygments_lexer": "ipython3",
   "version": "3.12.7"
  }
 },
 "nbformat": 4,
 "nbformat_minor": 5
}
