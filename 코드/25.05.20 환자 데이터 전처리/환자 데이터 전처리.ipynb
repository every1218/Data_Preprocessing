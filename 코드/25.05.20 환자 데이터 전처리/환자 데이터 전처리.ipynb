{
 "cells": [
  {
   "cell_type": "code",
   "execution_count": 58,
   "id": "f27af262-982e-4bfa-a803-d9de9c2c1846",
   "metadata": {},
   "outputs": [],
   "source": [
    "def categorize (검사나이):\n",
    " if 10 <= 검사나이 < 20:\n",
    "  return \"10대\"\n",
    " elif 20 <= 검사나이 < 30:\n",
    "  return \"20대\"\n",
    " elif 30 <= 검사나이 < 40:\n",
    "  return \"30대\"\n",
    " elif 40 <= 검사나이 < 50:\n",
    "  return \"40대\"\n",
    " elif 50 <= 검사나이 < 60:\n",
    "  return \"50대\"\n",
    " elif 60 <= 검사나이 < 70:\n",
    "  return \"60대\"\n",
    " elif 70 <= 검사나이 < 80:\n",
    "  return \"70대\"\n",
    " elif 검사나이 == 80:\n",
    "  return \"80세 \"\n",
    " else: \n",
    "  return \"80세 이상\""
   ]
  },
  {
   "cell_type": "code",
   "execution_count": 64,
   "id": "cb146147-80fb-45af-b2b4-5308339899e0",
   "metadata": {},
   "outputs": [
    {
     "name": "stdout",
     "output_type": "stream",
     "text": [
      "(464319, 16)\n"
     ]
    }
   ],
   "source": [
    "import pandas as pd\n",
    "import numpy as np\n",
    "\n",
    "df = pd.read_csv(\"C:/Users/a0102/OneDrive/바탕 화면/데이터전처리/patient_1.csv\", header=0, encoding=\"utf-8\")\n",
    "\n",
    "#0. 결측치 삭제\n",
    "null_index = df[df['기준치하한값'].isnull()].index\n",
    "df = df.drop(null_index, axis = 0)\n",
    "null_index = df[df['입실시각'].isnull()].index\n",
    "df = df.drop(null_index, axis = 0)\n",
    "null_index = df[df['검사결과값(숫자)'].isnull()].index\n",
    "df = df.drop(null_index, axis = 0)\n",
    "\n",
    "#1. 제거\n",
    "df = df.drop(['검사코드', '검사결과값(표시)', '진료과코드', '진료과코드NM', '성별코드NM'], axis = 1)\n",
    "\n",
    "#2.수정\n",
    "df['검사나이'] = df['검사나이'].apply(categorize)\n",
    "\n",
    "df['입실일자'] = pd.to_datetime(df['입실일자'], format='%Y%m%d', errors='coerce')\n",
    "df['접수일자'] = pd.to_datetime(df['접수일자'], format='%Y%m%d', errors='coerce')\n",
    "df['퇴실일자'] = pd.to_datetime(df['퇴실일자'], format='%Y%m%d', errors='coerce')\n",
    "\n",
    "df['입실시각']=pd.to_datetime(df['입실시각'], format='%H%M', errors='coerce').dt.time\n",
    "df['퇴실시각']=pd.to_datetime(df['퇴실시각'], format='%H%M', errors='coerce').dt.time\n",
    "\n",
    "df['접수시각'] = df['접수시각'].astype(int)\n",
    "df['접수시각'] = df['접수시각'].astype('str')\n",
    "df['접수시각'] = df['접수시각'].str.rjust(4, fillchar='0')\n",
    "df['접수시각'] = pd.to_datetime(df['접수시각'], format='%H%M', errors='coerce').dt.time\n",
    "\n",
    "\n",
    "#3. 추가\n",
    "df['입원기간'] = df['퇴실일자'] - df['입실일자']\n",
    "\n",
    "df['환자ID'] = df['연구번호'].astype('str')\n",
    "df['환자ID2'] = df['입실일자'].astype('str')\n",
    "df['환자ID'] = df['환자ID'].str[0:3] + df['환자ID'].str[5:] + df['환자ID2'].str[:]\n",
    "df['환자ID'] = df['환자ID'].str[0:8]\n",
    "df = df.drop(['환자ID2'], axis=1)\n",
    "\n",
    "df= df[['연구번호', '입실일자', '입실시각', '검사코드NM', '검사결과값(숫자)', '기준치상한값', '기준치하한값', '검사나이', '접수일자', '접수시각', '퇴실일자', '퇴실시각', '환자생년월', '성별코드', '환자ID', '입원기간']]"
   ]
  },
  {
   "cell_type": "code",
   "execution_count": 7,
   "id": "b8c50a97-f671-4e31-90b2-e13d2522c768",
   "metadata": {},
   "outputs": [],
   "source": [
    "#저장하기\n",
    "df.to_csv('C:/Users/a0102/OneDrive/바탕 화면/1번문제.csv', index=False, encoding ='cp949')"
   ]
  },
  {
   "cell_type": "code",
   "execution_count": 56,
   "id": "4dae7978-6020-4038-9105-e78a12aab564",
   "metadata": {},
   "outputs": [
    {
     "name": "stdout",
     "output_type": "stream",
     "text": [
      "(464319, 16)\n",
      "(464319, 14)\n",
      "(188146, 14)\n",
      "(369, 14)\n",
      "(120, 14)\n",
      "(489, 14)\n"
     ]
    }
   ],
   "source": [
    "import pandas as pd\n",
    "p1 = pd.read_csv(\"C:/Users/a0102/OneDrive/바탕 화면/데이터전처리/new_patient_1.csv\", header=0, encoding=\"cp949\")\n",
    "p2 = pd.read_csv(\"C:/Users/a0102/OneDrive/바탕 화면/데이터전처리/patient_2.csv\", header=0, encoding=\"cp949\")\n",
    "p3 = pd.read_csv(\"C:/Users/a0102/OneDrive/바탕 화면/데이터전처리/prepro_patient.csv\", header=0, encoding=\"cp949\")\n",
    "\n",
    "#1. 제거\n",
    "p1 = p1.drop(['접수일자', '접수시각'], axis = 1)\n",
    "p2 = p2.drop(['접수일자', '접수시각'], axis = 1)\n",
    "\n",
    "\n",
    "#2.수정\n",
    "print(p1.shape) #3.9만개\n",
    "print(p2.shape) #1.6만개\n",
    "p1 = p1[(p1['검사나이'] == '80세 ')& ((p1['연구번호'] == 19300234) | (p1['연구번호'] == 1219300234))]\n",
    "p2 = p2[(p2['검사나이'] == '80세 ')& ((p2['연구번호'] == 19300234) | (p2['연구번호'] == 1219300234))]\n",
    "print(p1.shape) #369개\n",
    "print(p2.shape) #120개\n",
    "\n",
    "# #3. 병합\n",
    "ans = pd.concat([p1, p2], axis=0) \n",
    "print(ans.shape) #489개"
   ]
  },
  {
   "cell_type": "code",
   "execution_count": null,
   "id": "9050cbd7-dbe4-401f-9d8d-1b92628748ca",
   "metadata": {},
   "outputs": [],
   "source": [
    "#저장하기\n",
    "ans.to_csv('C:/Users/a0102/OneDrive/바탕 화면/2번문제.csv', index=False, encoding ='cp949')"
   ]
  }
 ],
 "metadata": {
  "kernelspec": {
   "display_name": "study",
   "language": "python",
   "name": "study"
  },
  "language_info": {
   "codemirror_mode": {
    "name": "ipython",
    "version": 3
   },
   "file_extension": ".py",
   "mimetype": "text/x-python",
   "name": "python",
   "nbconvert_exporter": "python",
   "pygments_lexer": "ipython3",
   "version": "3.12.7"
  }
 },
 "nbformat": 4,
 "nbformat_minor": 5
}
