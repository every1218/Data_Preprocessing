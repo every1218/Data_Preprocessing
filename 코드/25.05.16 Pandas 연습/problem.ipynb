{
 "cells": [
  {
   "cell_type": "code",
   "execution_count": 186,
   "id": "5c75dcce-f6f1-4939-9539-97500e1074d9",
   "metadata": {},
   "outputs": [
    {
     "data": {
      "text/plain": [
       "결과\n",
       "Alpha    38\n",
       "Gamma    34\n",
       "Beta     28\n",
       "Name: count, dtype: int64"
      ]
     },
     "execution_count": 186,
     "metadata": {},
     "output_type": "execute_result"
    }
   ],
   "source": [
    "#7\n",
    "\n",
    "#1번 방법\n",
    "# split_df[\"new1\"] = split_df[\"Model\"].str.extract(r'(Alpha)')\n",
    "# split_df[\"new2\"]= split_df[\"Model\"].str.extract(r'(Beta)')\n",
    "# split_df[\"new3\"]= split_df[\"Model\"].str.extract(r'(Gamma)')\n",
    "# split_df[\"Model\"] = split_df[\"new1\"].fillna(split_df[\"new2\"]).fillna(split_df[\"new3\"])\n",
    "\n",
    "#2번 방법\n",
    "# split_df[\"Model\"] = split_df[\"Model\"].str.extract(r'(Alpha|Beta|Gamma)')\n",
    "# split_df['Model'].value_counts()\n",
    "\n",
    "\n",
    "#3번 방법\n",
    "split_df['알파'] = split_df['Model'].str.extract(r'(Alpha)')\n",
    "split_df['베타'] = split_df['Model'].str.extract(r'(Gamma)')\n",
    "split_df['감마'] = split_df['Model'].str.extract(r'(Beta)')\n",
    "\n",
    "split_df['알파'] = split_df['알파'].astype(str)\n",
    "split_df['베타'] = split_df['베타'].astype(str)\n",
    "split_df['감마'] = split_df['감마'].astype(str)\n",
    "\n",
    "split_df['합치기'] = split_df['알파']+split_df['베타']+split_df['감마']\n",
    "\n",
    "split_df[\"결과\"]=split_df['합치기'].str.replace(r'nan', '', regex=True)\n",
    "\n",
    "split_df['결과'].value_counts()"
   ]
  },
  {
   "cell_type": "code",
   "execution_count": 227,
   "id": "fdc77ddd-cf06-4c97-892e-2dad26d3ab7b",
   "metadata": {},
   "outputs": [],
   "source": [
    "import pandas as pd\n",
    "\n",
    "df = pd.read_csv('C:/Users/a0102/OneDrive/바탕 화면/데이터전처리/Data_Sample.csv',header=0)\n",
    "#1 결측값이 있는 행의 개수는?\n",
    "df.isnull().sum()\n",
    "\n",
    "#2 Category별 행 개수를 세어보세요.\n",
    "df['Category'].value_counts()\n",
    "\n",
    "#3 Model_Serial이 ‘Alpha’로 시작하는 행만 필터링해보세요.\n",
    "df[df['Model_Serial'].str.contains('Alpha')]\n",
    "\n",
    "#4 Value1의 평균을 구하세요. (결측값 제외)\n",
    "df['Value1'].mean()\n",
    "\n",
    "#5 Value2와 Value3의 평균을 새로운 열 Value_Avg로 추가하세요.\n",
    "df['Value_Avg'] = (df['Value1'] + df['Value2'])/2\n",
    "# print(df[['Value1', 'Value2']].mean(axis=1)) <- 최적화\n",
    "\n",
    "#6 Category가 A인 데이터에서 Value1의 최대값은?\n",
    "df[df['Category']=='A']['Value1'].max()\n",
    "\n",
    "#7 Model_Serial 열에서 ‘-’ 기호를 기준으로 분리하여, 모델명과 일련번호를 각각 새 열로 만드세요.\n",
    "df[['모델명', '일련번호']]=df['Model_Serial'].str.split('-', expand=True)\n",
    "\n",
    "#8 Category별로 Value1, Value2, Value3의 평균값을 구하세요.\n",
    "df.groupby('Category')['Value1'].mean()\n",
    "df.groupby('Category')['Value2'].mean()\n",
    "df.groupby('Category')['Value3'].mean()\n",
    "# print(df.groupby('Category')[['Value1', 'Value2', 'Value3']].mean()) <- 최적화\n",
    "\n",
    "#9 Value1, Value2, Value3의 결측값을 각각 해당 열의 평균으로 채워보세요.\n",
    "df['Value1'] = df['Value1'].fillna(df['Value1'].mean())\n",
    "df['Value2'] = df['Value2'].fillna(df['Value2'].mean())\n",
    "df['Value3'] = df['Value3'].fillna(df['Value3'].mean())\n",
    "\n",
    "\n",
    "#10 Value2와 Value3가 모두 존재하는 행만 필터링하여, Value2 > Value3인 행의 수는?\n",
    "df[df['Value2']>df['Value3']].sum()\n",
    "#df[df['Value2'].notnull() & df['Value3'].notnull() & (df['Value2'] > df['Value3'])].shape[0] <-정답\n",
    "\n",
    "#11 Category별로 Value1 대비 Value3의 비율(Value3 / Value1)의 평균을 구하세요.\n",
    "df['new'] = df['Value3']/df['Value1']\n",
    "df.groupby('Category')['new'].mean()\n",
    "df= df.drop('new', axis=1)"
   ]
  }
 ],
 "metadata": {
  "kernelspec": {
   "display_name": "study",
   "language": "python",
   "name": "study"
  },
  "language_info": {
   "codemirror_mode": {
    "name": "ipython",
    "version": 3
   },
   "file_extension": ".py",
   "mimetype": "text/x-python",
   "name": "python",
   "nbconvert_exporter": "python",
   "pygments_lexer": "ipython3",
   "version": "3.12.7"
  }
 },
 "nbformat": 4,
 "nbformat_minor": 5
}
