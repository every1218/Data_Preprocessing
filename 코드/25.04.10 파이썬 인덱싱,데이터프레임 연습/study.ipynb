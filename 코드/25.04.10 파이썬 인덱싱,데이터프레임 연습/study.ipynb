{
 "cells": [
  {
   "cell_type": "code",
   "execution_count": 16,
   "id": "76065684-f400-41b8-9f2a-e74f7d1d152e",
   "metadata": {},
   "outputs": [
    {
     "data": {
      "text/plain": [
       "[1, 2, 5, 6, 7, 8, 9, 10]"
      ]
     },
     "execution_count": 16,
     "metadata": {},
     "output_type": "execute_result"
    }
   ],
   "source": [
    "#1번\n",
    "v =[1,100,2,5,6,7,8,9]\n",
    "v.remove(100)\n",
    "v.append(10)\n",
    "v"
   ]
  },
  {
   "cell_type": "code",
   "execution_count": 36,
   "id": "dafda0e9-18de-43eb-8693-0b090e993130",
   "metadata": {},
   "outputs": [
    {
     "name": "stdout",
     "output_type": "stream",
     "text": [
      "[ 1  2  3  4  5  6  7  8  9 10 11]\n"
     ]
    }
   ],
   "source": [
    "#2번\n",
    "import numpy as np\n",
    "arr=np.array(v)\n",
    "\n",
    "np.insert(arr,2,3)\n",
    "np.insert(arr,3,4)\n",
    "np.append(arr,11)\n",
    "\n",
    "print(arr)"
   ]
  },
  {
   "cell_type": "code",
   "execution_count": 42,
   "id": "628ec9da-65a9-4562-a482-23115bd59003",
   "metadata": {},
   "outputs": [],
   "source": [
    "#3번\n",
    "a = arr[arr<=5]\n",
    "b = arr[arr<=4]"
   ]
  },
  {
   "cell_type": "code",
   "execution_count": 85,
   "id": "84459cee-b2c1-4481-ade0-fec0b1dc4ccb",
   "metadata": {},
   "outputs": [
    {
     "name": "stdout",
     "output_type": "stream",
     "text": [
      "{'윤종철': '010-2243-2343', '이두호': '010-2312-4324', '윤인섭': '010-5949-2939', '김창균': '010-1234-0987', '권세진': '010-2342-3213'}\n"
     ]
    }
   ],
   "source": [
    "#4번\n",
    "d = {\"윤종철\":\"010-2243-2343\", \"이두호\":\"010-2312-4324\", \"윤인섭\":\"010-5949-2939\", \n",
    "\"김창균\" : \"010-1234-0987\", \"권세진\":\"010-2342-3213\"}\n",
    "print(d)"
   ]
  },
  {
   "cell_type": "code",
   "execution_count": 103,
   "id": "8a74519c-1d53-4846-b8cb-9384371cfedd",
   "metadata": {},
   "outputs": [
    {
     "data": {
      "text/html": [
       "<div>\n",
       "<style scoped>\n",
       "    .dataframe tbody tr th:only-of-type {\n",
       "        vertical-align: middle;\n",
       "    }\n",
       "\n",
       "    .dataframe tbody tr th {\n",
       "        vertical-align: top;\n",
       "    }\n",
       "\n",
       "    .dataframe thead th {\n",
       "        text-align: right;\n",
       "    }\n",
       "</style>\n",
       "<table border=\"1\" class=\"dataframe\">\n",
       "  <thead>\n",
       "    <tr style=\"text-align: right;\">\n",
       "      <th></th>\n",
       "      <th>name</th>\n",
       "      <th>number</th>\n",
       "    </tr>\n",
       "  </thead>\n",
       "  <tbody>\n",
       "    <tr>\n",
       "      <th>0</th>\n",
       "      <td>윤종철</td>\n",
       "      <td>010-2243-2343</td>\n",
       "    </tr>\n",
       "    <tr>\n",
       "      <th>1</th>\n",
       "      <td>이두호</td>\n",
       "      <td>010-2312-4324</td>\n",
       "    </tr>\n",
       "    <tr>\n",
       "      <th>2</th>\n",
       "      <td>윤인섭</td>\n",
       "      <td>010-5949-2939</td>\n",
       "    </tr>\n",
       "    <tr>\n",
       "      <th>3</th>\n",
       "      <td>김창균</td>\n",
       "      <td>010-1234-0987</td>\n",
       "    </tr>\n",
       "    <tr>\n",
       "      <th>4</th>\n",
       "      <td>권세진</td>\n",
       "      <td>010-2342-3213</td>\n",
       "    </tr>\n",
       "  </tbody>\n",
       "</table>\n",
       "</div>"
      ],
      "text/plain": [
       "  name         number\n",
       "0  윤종철  010-2243-2343\n",
       "1  이두호  010-2312-4324\n",
       "2  윤인섭  010-5949-2939\n",
       "3  김창균  010-1234-0987\n",
       "4  권세진  010-2342-3213"
      ]
     },
     "execution_count": 103,
     "metadata": {},
     "output_type": "execute_result"
    }
   ],
   "source": [
    "#5번\n",
    "import pandas as pd\n",
    "\n",
    "new_d = {\n",
    "'name': d.keys(),\n",
    "'number': d.values(),\n",
    "}\n",
    "\n",
    "df = pd.DataFrame(new_d)\n",
    "df"
   ]
  },
  {
   "cell_type": "code",
   "execution_count": null,
   "id": "94e426da-5aac-4f83-9323-f9f6477bbf35",
   "metadata": {},
   "outputs": [],
   "source": [
    "#6번\n"
   ]
  },
  {
   "cell_type": "code",
   "execution_count": 117,
   "id": "2ea1864f-0144-4f3a-806b-59f9280ec58f",
   "metadata": {},
   "outputs": [
    {
     "name": "stdout",
     "output_type": "stream",
     "text": [
      "       연령     학력  성과능력  성과태도\n",
      "0  26~30세  대학원졸업     5     4\n",
      "1  31세 이상  대학교졸업     4     3\n",
      "2  31세 이상  전문대졸업     4     2\n",
      "3  26~30세  대학원졸업     4     4\n",
      "4  20~25세  대학교졸업     4     4\n"
     ]
    }
   ],
   "source": [
    "#7번\n",
    "df = pd.read_csv('C:/Users/a0102/Downloads/Data1.csv', header=0,encoding='euc-kr')\n",
    "print(df)"
   ]
  }
 ],
 "metadata": {
  "kernelspec": {
   "display_name": "CGData",
   "language": "python",
   "name": "cgdata"
  },
  "language_info": {
   "codemirror_mode": {
    "name": "ipython",
    "version": 3
   },
   "file_extension": ".py",
   "mimetype": "text/x-python",
   "name": "python",
   "nbconvert_exporter": "python",
   "pygments_lexer": "ipython3",
   "version": "3.12.7"
  }
 },
 "nbformat": 4,
 "nbformat_minor": 5
}
