{
 "cells": [
  {
   "cell_type": "code",
   "execution_count": 171,
   "id": "1b118d8c-a229-4d1c-86c3-f0b1f297dd5c",
   "metadata": {},
   "outputs": [
    {
     "data": {
      "text/html": [
       "<div>\n",
       "<style scoped>\n",
       "    .dataframe tbody tr th:only-of-type {\n",
       "        vertical-align: middle;\n",
       "    }\n",
       "\n",
       "    .dataframe tbody tr th {\n",
       "        vertical-align: top;\n",
       "    }\n",
       "\n",
       "    .dataframe thead th {\n",
       "        text-align: right;\n",
       "    }\n",
       "</style>\n",
       "<table border=\"1\" class=\"dataframe\">\n",
       "  <thead>\n",
       "    <tr style=\"text-align: right;\">\n",
       "      <th></th>\n",
       "      <th>Name</th>\n",
       "      <th>Age</th>\n",
       "    </tr>\n",
       "  </thead>\n",
       "  <tbody>\n",
       "    <tr>\n",
       "      <th>0</th>\n",
       "      <td>Alice</td>\n",
       "      <td>25</td>\n",
       "    </tr>\n",
       "    <tr>\n",
       "      <th>1</th>\n",
       "      <td>Bob</td>\n",
       "      <td>30</td>\n",
       "    </tr>\n",
       "  </tbody>\n",
       "</table>\n",
       "</div>"
      ],
      "text/plain": [
       "    Name  Age\n",
       "0  Alice   25\n",
       "1    Bob   30"
      ]
     },
     "execution_count": 171,
     "metadata": {},
     "output_type": "execute_result"
    }
   ],
   "source": [
    "#1~10\n",
    "#pip install pandas\n",
    "import pandas as pd\n",
    "\n",
    "arr=np.array([[1,2,3],[4,5,6],[7,8,9]])\n",
    "df = pd.DataFrame(arr, columns=['id','age','asd'])\n",
    "\n",
    "d = {'Name': ['Alice', 'Bob'], 'Age': [25, 30]}\n",
    "df = pd.DataFrame(d)\n",
    "\n",
    "df.head()\n",
    "df.tail(3)\n",
    "df.shape\n",
    "df.columnms\n",
    "\n",
    "df = read.csv('\\\\~~', encoding =\"utf8\")\n",
    "\n",
    "df = read.csv('~~', header=none)\n",
    "\n",
    "df.describe()\n",
    "df['age'>30]"
   ]
  },
  {
   "cell_type": "code",
   "execution_count": 199,
   "id": "d445e560-558b-41e6-9695-26a50486b5ee",
   "metadata": {},
   "outputs": [
    {
     "name": "stdout",
     "output_type": "stream",
     "text": [
      "[1 2 3 4]\n"
     ]
    },
    {
     "data": {
      "text/plain": [
       "array([1, 2, 4, 5])"
      ]
     },
     "execution_count": 199,
     "metadata": {},
     "output_type": "execute_result"
    }
   ],
   "source": [
    "11~20\n",
    "\n",
    "import numpy as np\n",
    "\n",
    "arr = np.array([1,2,3,4,5,6,7,8,9,10])\n",
    "arr[arr%2==0]\n",
    "\n",
    "arr=np.array([1,2,3])\n",
    "arr=np.append(arr,4)\n",
    "print(arr)\n",
    "\n",
    "arr=np.array([1,2,3,4,5])\n",
    "arr[arr>=5]\n",
    "arr[arr!=5]\n",
    "\n",
    "arr=np.array([10,20,30,40])\n",
    "arr[1]\n",
    "\n",
    "arr=np.array([[1,2,3],[7,8,9]])\n",
    "arr2=np.array([[3,2,3],[4,2,4]])\n",
    "\n",
    "new=np.hstack((arr,arr2))\n",
    "new\n",
    "arr=np.array([1,2,3,4,5])\n",
    "arr=np.delete(arr,2)\n",
    "arr\n"
   ]
  },
  {
   "cell_type": "code",
   "execution_count": 215,
   "id": "d4c0b086-c2c0-4629-85f7-36d16107cd24",
   "metadata": {},
   "outputs": [
    {
     "data": {
      "text/plain": [
       "30"
      ]
     },
     "execution_count": 215,
     "metadata": {},
     "output_type": "execute_result"
    }
   ],
   "source": [
    "#21~25\n",
    "\n",
    "v=[1,2,3]\n",
    "v.insert(1,10)\n",
    "v=[1,2,3]\n",
    "v.pop()\n",
    "v=[3,5,7,9]\n",
    "v.index(7)\n",
    "v=[1,2]\n",
    "v.append(3)\n",
    "v=[10,20,30,40,50]\n",
    "v[-3]"
   ]
  },
  {
   "cell_type": "code",
   "execution_count": 243,
   "id": "0b495fd6-b9a5-4f87-963a-a7e62c164306",
   "metadata": {},
   "outputs": [
    {
     "name": "stdout",
     "output_type": "stream",
     "text": [
      "성적: 50점\n",
      "성적: 90.567점\n",
      "수학:90, 영어:80점\n",
      "김철수\n",
      "김철수\n"
     ]
    }
   ],
   "source": [
    "26~30\n",
    "url = \"https://www.google.com\"\n",
    "url =url.replace(\"https://\",\"\")\n",
    "url\n",
    "\n",
    "print(\"성적: {}점\".format(50))\n",
    "print(\"성적: {}점\".format(90.567))\n",
    "print(\"수학:{}, 영어:{}점\".format(90,80))\n",
    "s = \"김철수, 30\"\n",
    "print(s[:3])\n",
    "print(s[:s.index(',')])"
   ]
  },
  {
   "cell_type": "code",
   "execution_count": 253,
   "id": "96b5f663-3d36-47e2-83e5-b362852f219f",
   "metadata": {},
   "outputs": [
    {
     "data": {
      "text/plain": [
       "[5, 10, 15]"
      ]
     },
     "execution_count": 253,
     "metadata": {},
     "output_type": "execute_result"
    }
   ],
   "source": [
    "#31~35\n",
    "v=[1,2,3,4,5]\n",
    "v\n",
    "v[1:4]\n",
    "\n",
    "v=[10,20,30,40,50]\n",
    "v[::-1]\n",
    "\n",
    "v=[0,1,2,3,4,5,6,7]\n",
    "v[::2]\n",
    "\n",
    "v=[5,10,15,20,25]\n",
    "v[:3]"
   ]
  },
  {
   "cell_type": "code",
   "execution_count": 261,
   "id": "4ce12933-f515-43b9-8517-eb2bad6ea36c",
   "metadata": {},
   "outputs": [
    {
     "ename": "LookupError",
     "evalue": "unknown encoding: uft-8",
     "output_type": "error",
     "traceback": [
      "\u001b[1;31m---------------------------------------------------------------------------\u001b[0m",
      "\u001b[1;31mLookupError\u001b[0m                               Traceback (most recent call last)",
      "Cell \u001b[1;32mIn[261], line 16\u001b[0m\n\u001b[0;32m     13\u001b[0m df\u001b[38;5;241m.\u001b[39mcolumns\n\u001b[0;32m     15\u001b[0m \u001b[38;5;66;03m# - `df.csv` 파일을 한글 깨짐 없이 읽어오는 코드를 작성하시오. (엑셀로 만든 파일이라고 가정)\u001b[39;00m\n\u001b[1;32m---> 16\u001b[0m df \u001b[38;5;241m=\u001b[39m pd\u001b[38;5;241m.\u001b[39mread_csv(\u001b[38;5;124m'\u001b[39m\u001b[38;5;124m~~\u001b[39m\u001b[38;5;124m'\u001b[39m, encoding\u001b[38;5;241m=\u001b[39m\u001b[38;5;124m\"\u001b[39m\u001b[38;5;124muft-8\u001b[39m\u001b[38;5;124m\"\u001b[39m)\n\u001b[0;32m     18\u001b[0m \u001b[38;5;66;03m# - `df.csv` 파일의 첫 줄이 컬럼이 아닐 경우, 헤더 없이 불러오는 코드를 작성하시오.\u001b[39;00m\n\u001b[0;32m     19\u001b[0m df \u001b[38;5;241m=\u001b[39m pd\u001b[38;5;241m.\u001b[39mread_csv(\u001b[38;5;124m'\u001b[39m\u001b[38;5;124m~~\u001b[39m\u001b[38;5;124m'\u001b[39m, header\u001b[38;5;241m=\u001b[39m\u001b[38;5;28;01mNone\u001b[39;00m)\n",
      "File \u001b[1;32m~\\anaconda3\\Lib\\site-packages\\pandas\\io\\parsers\\readers.py:1026\u001b[0m, in \u001b[0;36mread_csv\u001b[1;34m(filepath_or_buffer, sep, delimiter, header, names, index_col, usecols, dtype, engine, converters, true_values, false_values, skipinitialspace, skiprows, skipfooter, nrows, na_values, keep_default_na, na_filter, verbose, skip_blank_lines, parse_dates, infer_datetime_format, keep_date_col, date_parser, date_format, dayfirst, cache_dates, iterator, chunksize, compression, thousands, decimal, lineterminator, quotechar, quoting, doublequote, escapechar, comment, encoding, encoding_errors, dialect, on_bad_lines, delim_whitespace, low_memory, memory_map, float_precision, storage_options, dtype_backend)\u001b[0m\n\u001b[0;32m   1013\u001b[0m kwds_defaults \u001b[38;5;241m=\u001b[39m _refine_defaults_read(\n\u001b[0;32m   1014\u001b[0m     dialect,\n\u001b[0;32m   1015\u001b[0m     delimiter,\n\u001b[1;32m   (...)\u001b[0m\n\u001b[0;32m   1022\u001b[0m     dtype_backend\u001b[38;5;241m=\u001b[39mdtype_backend,\n\u001b[0;32m   1023\u001b[0m )\n\u001b[0;32m   1024\u001b[0m kwds\u001b[38;5;241m.\u001b[39mupdate(kwds_defaults)\n\u001b[1;32m-> 1026\u001b[0m \u001b[38;5;28;01mreturn\u001b[39;00m _read(filepath_or_buffer, kwds)\n",
      "File \u001b[1;32m~\\anaconda3\\Lib\\site-packages\\pandas\\io\\parsers\\readers.py:620\u001b[0m, in \u001b[0;36m_read\u001b[1;34m(filepath_or_buffer, kwds)\u001b[0m\n\u001b[0;32m    617\u001b[0m _validate_names(kwds\u001b[38;5;241m.\u001b[39mget(\u001b[38;5;124m\"\u001b[39m\u001b[38;5;124mnames\u001b[39m\u001b[38;5;124m\"\u001b[39m, \u001b[38;5;28;01mNone\u001b[39;00m))\n\u001b[0;32m    619\u001b[0m \u001b[38;5;66;03m# Create the parser.\u001b[39;00m\n\u001b[1;32m--> 620\u001b[0m parser \u001b[38;5;241m=\u001b[39m TextFileReader(filepath_or_buffer, \u001b[38;5;241m*\u001b[39m\u001b[38;5;241m*\u001b[39mkwds)\n\u001b[0;32m    622\u001b[0m \u001b[38;5;28;01mif\u001b[39;00m chunksize \u001b[38;5;129;01mor\u001b[39;00m iterator:\n\u001b[0;32m    623\u001b[0m     \u001b[38;5;28;01mreturn\u001b[39;00m parser\n",
      "File \u001b[1;32m~\\anaconda3\\Lib\\site-packages\\pandas\\io\\parsers\\readers.py:1620\u001b[0m, in \u001b[0;36mTextFileReader.__init__\u001b[1;34m(self, f, engine, **kwds)\u001b[0m\n\u001b[0;32m   1617\u001b[0m     \u001b[38;5;28mself\u001b[39m\u001b[38;5;241m.\u001b[39moptions[\u001b[38;5;124m\"\u001b[39m\u001b[38;5;124mhas_index_names\u001b[39m\u001b[38;5;124m\"\u001b[39m] \u001b[38;5;241m=\u001b[39m kwds[\u001b[38;5;124m\"\u001b[39m\u001b[38;5;124mhas_index_names\u001b[39m\u001b[38;5;124m\"\u001b[39m]\n\u001b[0;32m   1619\u001b[0m \u001b[38;5;28mself\u001b[39m\u001b[38;5;241m.\u001b[39mhandles: IOHandles \u001b[38;5;241m|\u001b[39m \u001b[38;5;28;01mNone\u001b[39;00m \u001b[38;5;241m=\u001b[39m \u001b[38;5;28;01mNone\u001b[39;00m\n\u001b[1;32m-> 1620\u001b[0m \u001b[38;5;28mself\u001b[39m\u001b[38;5;241m.\u001b[39m_engine \u001b[38;5;241m=\u001b[39m \u001b[38;5;28mself\u001b[39m\u001b[38;5;241m.\u001b[39m_make_engine(f, \u001b[38;5;28mself\u001b[39m\u001b[38;5;241m.\u001b[39mengine)\n",
      "File \u001b[1;32m~\\anaconda3\\Lib\\site-packages\\pandas\\io\\parsers\\readers.py:1880\u001b[0m, in \u001b[0;36mTextFileReader._make_engine\u001b[1;34m(self, f, engine)\u001b[0m\n\u001b[0;32m   1878\u001b[0m     \u001b[38;5;28;01mif\u001b[39;00m \u001b[38;5;124m\"\u001b[39m\u001b[38;5;124mb\u001b[39m\u001b[38;5;124m\"\u001b[39m \u001b[38;5;129;01mnot\u001b[39;00m \u001b[38;5;129;01min\u001b[39;00m mode:\n\u001b[0;32m   1879\u001b[0m         mode \u001b[38;5;241m+\u001b[39m\u001b[38;5;241m=\u001b[39m \u001b[38;5;124m\"\u001b[39m\u001b[38;5;124mb\u001b[39m\u001b[38;5;124m\"\u001b[39m\n\u001b[1;32m-> 1880\u001b[0m \u001b[38;5;28mself\u001b[39m\u001b[38;5;241m.\u001b[39mhandles \u001b[38;5;241m=\u001b[39m get_handle(\n\u001b[0;32m   1881\u001b[0m     f,\n\u001b[0;32m   1882\u001b[0m     mode,\n\u001b[0;32m   1883\u001b[0m     encoding\u001b[38;5;241m=\u001b[39m\u001b[38;5;28mself\u001b[39m\u001b[38;5;241m.\u001b[39moptions\u001b[38;5;241m.\u001b[39mget(\u001b[38;5;124m\"\u001b[39m\u001b[38;5;124mencoding\u001b[39m\u001b[38;5;124m\"\u001b[39m, \u001b[38;5;28;01mNone\u001b[39;00m),\n\u001b[0;32m   1884\u001b[0m     compression\u001b[38;5;241m=\u001b[39m\u001b[38;5;28mself\u001b[39m\u001b[38;5;241m.\u001b[39moptions\u001b[38;5;241m.\u001b[39mget(\u001b[38;5;124m\"\u001b[39m\u001b[38;5;124mcompression\u001b[39m\u001b[38;5;124m\"\u001b[39m, \u001b[38;5;28;01mNone\u001b[39;00m),\n\u001b[0;32m   1885\u001b[0m     memory_map\u001b[38;5;241m=\u001b[39m\u001b[38;5;28mself\u001b[39m\u001b[38;5;241m.\u001b[39moptions\u001b[38;5;241m.\u001b[39mget(\u001b[38;5;124m\"\u001b[39m\u001b[38;5;124mmemory_map\u001b[39m\u001b[38;5;124m\"\u001b[39m, \u001b[38;5;28;01mFalse\u001b[39;00m),\n\u001b[0;32m   1886\u001b[0m     is_text\u001b[38;5;241m=\u001b[39mis_text,\n\u001b[0;32m   1887\u001b[0m     errors\u001b[38;5;241m=\u001b[39m\u001b[38;5;28mself\u001b[39m\u001b[38;5;241m.\u001b[39moptions\u001b[38;5;241m.\u001b[39mget(\u001b[38;5;124m\"\u001b[39m\u001b[38;5;124mencoding_errors\u001b[39m\u001b[38;5;124m\"\u001b[39m, \u001b[38;5;124m\"\u001b[39m\u001b[38;5;124mstrict\u001b[39m\u001b[38;5;124m\"\u001b[39m),\n\u001b[0;32m   1888\u001b[0m     storage_options\u001b[38;5;241m=\u001b[39m\u001b[38;5;28mself\u001b[39m\u001b[38;5;241m.\u001b[39moptions\u001b[38;5;241m.\u001b[39mget(\u001b[38;5;124m\"\u001b[39m\u001b[38;5;124mstorage_options\u001b[39m\u001b[38;5;124m\"\u001b[39m, \u001b[38;5;28;01mNone\u001b[39;00m),\n\u001b[0;32m   1889\u001b[0m )\n\u001b[0;32m   1890\u001b[0m \u001b[38;5;28;01massert\u001b[39;00m \u001b[38;5;28mself\u001b[39m\u001b[38;5;241m.\u001b[39mhandles \u001b[38;5;129;01mis\u001b[39;00m \u001b[38;5;129;01mnot\u001b[39;00m \u001b[38;5;28;01mNone\u001b[39;00m\n\u001b[0;32m   1891\u001b[0m f \u001b[38;5;241m=\u001b[39m \u001b[38;5;28mself\u001b[39m\u001b[38;5;241m.\u001b[39mhandles\u001b[38;5;241m.\u001b[39mhandle\n",
      "File \u001b[1;32m~\\anaconda3\\Lib\\site-packages\\pandas\\io\\common.py:723\u001b[0m, in \u001b[0;36mget_handle\u001b[1;34m(path_or_buf, mode, encoding, compression, memory_map, is_text, errors, storage_options)\u001b[0m\n\u001b[0;32m    720\u001b[0m     mode \u001b[38;5;241m+\u001b[39m\u001b[38;5;241m=\u001b[39m \u001b[38;5;124m\"\u001b[39m\u001b[38;5;124mb\u001b[39m\u001b[38;5;124m\"\u001b[39m\n\u001b[0;32m    722\u001b[0m \u001b[38;5;66;03m# validate encoding and errors\u001b[39;00m\n\u001b[1;32m--> 723\u001b[0m codecs\u001b[38;5;241m.\u001b[39mlookup(encoding)\n\u001b[0;32m    724\u001b[0m \u001b[38;5;28;01mif\u001b[39;00m \u001b[38;5;28misinstance\u001b[39m(errors, \u001b[38;5;28mstr\u001b[39m):\n\u001b[0;32m    725\u001b[0m     codecs\u001b[38;5;241m.\u001b[39mlookup_error(errors)\n",
      "\u001b[1;31mLookupError\u001b[0m: unknown encoding: uft-8"
     ]
    }
   ],
   "source": [
    "#오답노트 다시풀기\n",
    "\n",
    "# - 배열 `arr`을 이용해 데이터프레임 `df`를 만들고, 컬럼명을 `['ID', 'Name', 'Age']`로 설정하시오.\n",
    "# pip install pandas\n",
    "import pandas as pd\n",
    "arr=np.array([['asd', '철수', 13],\n",
    "              ['avd', '철순', 14],\n",
    "              ['aad', '철숭', 15]])\n",
    "df=pd.DataFrame(arr, columns=['ID','Name','Age'])\n",
    "df\n",
    "\n",
    "# - `df`의 컬럼명을 출력하는 코드를 작성하시오.\n",
    "df.columns\n",
    "\n",
    "# - `df.csv` 파일을 한글 깨짐 없이 읽어오는 코드를 작성하시오. (엑셀로 만든 파일이라고 가정)\n",
    "df = pd.read_csv('~~', encoding=\"uft-8\")\n",
    "\n",
    "# - `df.csv` 파일의 첫 줄이 컬럼이 아닐 경우, 헤더 없이 불러오는 코드를 작성하시오.\n",
    "df = pd.read_csv('~~', header=None)\n",
    "\n",
    "# - 컬럼이 `Age`인 데이터프레임에서 `30 이상`만 출력하는 코드를 작성하시오.\n",
    "df[df['Age']>=30]]\n",
    "\n",
    "# - 2차원 배열 두 개를 수직으로 합치는 코드를 작성하시오.\n",
    "a = np.array([1,2,3],[4,5,6])\n",
    "b = np.array([4,3,2],[4,2,1])\n",
    "new = np.vstack((a,b))\n",
    "\n",
    "# - 2차원 배열 두 개를 수평으로 합치는 코드를 작성하시오.\n",
    "new = np.hstack((a,b))\n",
    "\n",
    "# - 배열 [1, 2, 3, 4, 5]의 인덱스 2의 값을 삭제하는 코드를 작성하시오.\n",
    "arr =np.array([1,2,3,4,5])\n",
    "arr=np.delete(arr,2)\n",
    "arr\n"
   ]
  },
  {
   "cell_type": "code",
   "execution_count": null,
   "id": "96f4c7a0-89d2-4928-9d2b-969cd72ece88",
   "metadata": {},
   "outputs": [],
   "source": []
  }
 ],
 "metadata": {
  "kernelspec": {
   "display_name": "CGData",
   "language": "python",
   "name": "cgdata"
  },
  "language_info": {
   "codemirror_mode": {
    "name": "ipython",
    "version": 3
   },
   "file_extension": ".py",
   "mimetype": "text/x-python",
   "name": "python",
   "nbconvert_exporter": "python",
   "pygments_lexer": "ipython3",
   "version": "3.12.7"
  }
 },
 "nbformat": 4,
 "nbformat_minor": 5
}
